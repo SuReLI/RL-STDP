{
 "cells": [
  {
   "cell_type": "markdown",
   "metadata": {},
   "source": [
    "Import librairies"
   ]
  },
  {
   "cell_type": "code",
   "execution_count": null,
   "metadata": {},
   "outputs": [],
   "source": [
    "using Plots"
   ]
  },
  {
   "cell_type": "markdown",
   "metadata": {},
   "source": [
    "Parameter variables"
   ]
  },
  {
   "cell_type": "code",
   "execution_count": null,
   "metadata": {},
   "outputs": [],
   "source": [
    "M = 100          # Number of synapses per neurons\n",
    "D = 1            # Maximal Conduction Delay (msec)\n",
    "Ne = 800         # Excitatory neuron population size\n",
    "Ni = 200         # Inhibitory neuron population size\n",
    "N = Ne + Ni      # Total neuron population size\n",
    "sm = 4           # Max synaptic strength (mV)\n",
    "\n",
    "a = [(i<=Ne) ? 0.02 : 0.1 for i in 1:N]\n",
    "d = [(i<=Ne) ? 8 : 2 for i in 1:N]\n",
    "\n",
    "post = vcat(rand(1:N,Ne,M),rand(1:Ne,Ni,M)) # creates 100 random connexions per neuron\n",
    "\n",
    "s = vcat(ones(Ne,M),-ones(Ni,M))   # synaptic strength 1 for excitatory and -1 for inhibitory (SYNAPTIC WEIGHTS)\n",
    "sd = zeros(N,M);            # synaptic strength derivative, s = s+sd when dopamine is released (SYNAPTIC CHANGE IN WEIGTHS)"
   ]
  },
  {
   "cell_type": "markdown",
   "metadata": {},
   "source": [
    "Initailizing delays and STDP"
   ]
  },
  {
   "cell_type": "code",
   "execution_count": null,
   "metadata": {},
   "outputs": [],
   "source": [
    "delays = []\n",
    "pre = []\n",
    "\n",
    "for i in 1:N\n",
    "    if i <= Ne\n",
    "        del_temp = []\n",
    "        for j in 1:D\n",
    "            start = (M/D)*(j-1)+1\n",
    "            fin = M/D*(j)\n",
    "            append!(del_temp,[collect(start:fin)])\n",
    "        end\n",
    "    else\n",
    "        del_temp = [[] for i in 1:D]\n",
    "        del_temp[1] = collect(1:M)\n",
    "    end\n",
    "    global delays = vcat(delays,del_temp)\n",
    "    append!(pre,[collect([index for index in findall(x->x==i,post) if s[index]>0])]) \n",
    "end\n",
    "\n",
    "STDP = zeros(N,1001+D)        # all synaptic traces stored in this matrix\n",
    "v = -65*ones(N)               # initial values of the membrane potentials (mV)\n",
    "u = 0.2*v                     # initial values of the eligibility trace\n",
    "firings = [-D 0];             # spike firing times"
   ]
  },
  {
   "cell_type": "markdown",
   "metadata": {},
   "source": [
    "New parameter initialization related to DA-STDP"
   ]
  },
  {
   "cell_type": "code",
   "execution_count": null,
   "metadata": {},
   "outputs": [],
   "source": [
    "T = 3600                     # total simulation time (sec)\n",
    "DA = 0                       # dopamine level above baseline\n",
    "rew = []                     # reward attribution times\n",
    "\n",
    "n1 = 1                       # presynaptic targeted neuron for the simulation\n",
    "syn = 1                      # targeted synapse\n",
    "n2 = post[n1,syn]            # postsynaptic targeted neuron\n",
    "s[n1,syn] = 0                # targeted synapse's weight initialized to 0\n",
    "\n",
    "interval = 20                # tolerated spike time interval between n1 and n2 for reward attribution (msec)\n",
    "n1f = [-100]                 # final spike time of n1 (msec)\n",
    "n2f = []                     # final spike time of n2 (msec)\n",
    "\n",
    "shist = zeros(1000*T, 2);    # recording for the plots (s-history)"
   ]
  },
  {
   "cell_type": "markdown",
   "metadata": {},
   "source": [
    "Main loop of the simulation"
   ]
  },
  {
   "cell_type": "code",
   "execution_count": null,
   "metadata": {},
   "outputs": [],
   "source": [
    "for sec in 0:(T-1)                               # 1 hour simulation time\n",
    "    for t in 1:1000                              # 1 sec simulation time\n",
    "        I=13*(rand(N).-0.5)\n",
    "        fired = findall(x->x>=30,v)              # find the neurons that spiked\n",
    "        v[fired] .= -65                          # reinitialize neurons that spiked to rest potential\n",
    "        u[fired] = u[fired]+d[fired]\n",
    "        if length(fired)!=0\n",
    "            STDP[fired,t+D] .= 0.1               # incerment the appropriate synaptic trace\n",
    "        end\n",
    "        for k in fired\n",
    "            pre_neurons_k = [pre[k][i][1] for i in 1:length(pre[k])]\n",
    "            sd[pre[k]] = sd[pre[k]]  .+  STDP[pre_neurons_k,t]                 # increase the syn. der. by the (syn.trace)x1 (remember to RECHECK (t) vs (t+1))\n",
    "        end\n",
    "        global firings = Int64.(vcat(firings,hcat(t*ones(length(fired)),fired)))    # actualize the list of firing times with the corresponding spiking neuron\n",
    "        last_ = length(firings[:,1])\n",
    "        while firings[last_,1]>sec*1000+t-D\n",
    "            del = Int64(delays[firings[last_,2]][sec*1000+t-firings[last_,1]+1])\n",
    "            ind = post[firings[last_,2], del]\n",
    "            I[ind] += s[firings[last_,2],del]\n",
    "            sd[firings[last_,2],del] = sd[firings[last_,2],del] .-1.5*STDP[ind,t+D]\n",
    "            last_ -= 1\n",
    "        end\n",
    "        global v=v+0.5.*((0.04.*v.+5).*v.+140-u+I)\n",
    "        global v=v+0.5.*((0.04.*v.+5).*v.+140-u+I)\n",
    "        global u=u+a.*(0.2*v-u)\n",
    "        STDP[:,t+D+1] = 0.95*STDP[:,t+D]\n",
    "        global DA = DA*0.995\n",
    "        if t%10==0\n",
    "            s[1:Ne,:] = max.(0,min.(sm,s[1:Ne,:]+(0.002+DA)*sd[1:Ne,:]))\n",
    "            global sd = 0.99*sd\n",
    "        end\n",
    "        if n1 in fired\n",
    "            append!(n1f,sec*1000+t)\n",
    "        end\n",
    "        if n2 in fired\n",
    "            append!(n2f,sec*1000+t)\n",
    "            if (sec*1000+t-last(n1f)<interval) && (last(n2f)>last(n1f))\n",
    "                append!(rew,sec*1000+t+1000+rand(1:2000))\n",
    "            end\n",
    "        end\n",
    "        if (sec*1000+t) in rew\n",
    "            DA += 0.5\n",
    "        end\n",
    "        shist[1000*sec+t,:] = [s[n1,syn],sd[n1,syn]]\n",
    "    end\n",
    "    STDP[:,1:D+1]=STDP[:,1001:1001+D]\n",
    "    ind = findall(x->x>1001-D,firings[:,1])\n",
    "    global firings = Int64.(vcat([-D 0],hcat(firings[ind,1].-1000,firings[ind,2])))\n",
    "    if sec%100==0\n",
    "        print(\"\\rsec = $sec\")\n",
    "    end\n",
    "end"
   ]
  },
  {
   "cell_type": "markdown",
   "metadata": {},
   "source": [
    "Plot learning of the targeted synapse"
   ]
  },
  {
   "cell_type": "code",
   "execution_count": null,
   "metadata": {},
   "outputs": [],
   "source": [
    "x1 = 0.001.*collect(1:length(shist[:,1]))\n",
    "y1 = shist[:,1]\n",
    "x2 = x1\n",
    "y2 = 10*shist[:,2];"
   ]
  },
  {
   "cell_type": "code",
   "execution_count": null,
   "metadata": {},
   "outputs": [],
   "source": [
    "gr()\n",
    "fig = plot()\n",
    "plot!(x1,y1,color=\"blue\",label=\"synapse weight\", legend = true)\n",
    "plot!(x2,y2,color=\"green\",label=\"synapse weight derivative\", legend = true)\n",
    "xlabel!(\"Time (sec)\")"
   ]
  },
  {
   "cell_type": "code",
   "execution_count": null,
   "metadata": {},
   "outputs": [],
   "source": []
  }
 ],
 "metadata": {
  "kernelspec": {
   "display_name": "Julia 1.4.0",
   "language": "julia",
   "name": "julia-1.4"
  },
  "language_info": {
   "file_extension": ".jl",
   "mimetype": "application/julia",
   "name": "julia",
   "version": "1.4.0"
  }
 },
 "nbformat": 4,
 "nbformat_minor": 4
}
