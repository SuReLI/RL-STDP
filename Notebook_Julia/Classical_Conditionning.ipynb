{
 "cells": [
  {
   "cell_type": "code",
   "execution_count": null,
   "metadata": {},
   "outputs": [],
   "source": [
    "# %% Modules\n",
    "\n",
    "include(\"../Modules/NeuronModel.jl\")\n",
    "include(\"../Modules/DASTDP.jl\")\n",
    "\n",
    "using .DASTDP\n",
    "using .NeuronModel\n",
    "using Statistics"
   ]
  },
  {
   "cell_type": "code",
   "execution_count": null,
   "metadata": {},
   "outputs": [],
   "source": [
    "# %% Constants\n",
    "\n",
    "const S = [rand(1:800,50) for _ in 1:100] # Stimulis Sk\n",
    "const T = 3600"
   ]
  },
  {
   "cell_type": "code",
   "execution_count": null,
   "metadata": {},
   "outputs": [],
   "source": [
    "# %% functions\n",
    "\n",
    "function stimuli_fire(s_index::Int64,I::Array{Float64})\n",
    "    ind = S[s_index]\n",
    "    I[ind] = I[ind] .+ 200\n",
    "    return I\n",
    "end\n",
    "\n",
    "function means(s::Array{Float64,2})\n",
    "    mean_cs = mean(s[S[1],:])\n",
    "    mean_us = mean([mean(s[S[index],:]) for index in 2:50])\n",
    "    return mean_cs,mean_us\n",
    "end\n",
    "\n",
    "function reward(rew::Array{Int64},s_index::Int64,time::Int64)\n",
    "    if s_index == 1\n",
    "        append!(rew,time+rand(1:1000))\n",
    "    end\n",
    "    return rew\n",
    "end"
   ]
  },
  {
   "cell_type": "code",
   "execution_count": null,
   "metadata": {},
   "outputs": [],
   "source": [
    "# %% Network structure\n",
    "\n",
    "mutable struct NeuralNet\n",
    "    v::Array{Float64}\n",
    "    u::Array{Float64}\n",
    "    s::Array{Float64,2}\n",
    "    sd::Array{Float64,2}\n",
    "    STDP::Array{Float64,2}\n",
    "    firings::Array{Int64,2}\n",
    "    DA::Float64\n",
    "    rew::Array{Int64}\n",
    "    s_del::Array{Int64}\n",
    "    I::Array{Float64}\n",
    "    shist::Array{Float64,2}\n",
    "\n",
    "    function NeuralNet()\n",
    "        v = -65.0*ones(N)\n",
    "        u = 0.2*v\n",
    "        s = vcat(0.5 .* ones(Ne,M),-0.5 .* ones(Ni,M))\n",
    "        sd = 0.0 .* zeros(N,M)\n",
    "        STDP = 0.0 .* zeros(N,1001+D)\n",
    "        firings = [-D 0]\n",
    "        DA = 0.0\n",
    "        rew = []\n",
    "        s_del = [0,0]\n",
    "        I = Float64[]\n",
    "        shist = zeros(1000*T, 2)\n",
    "        new(v,u,s,sd,STDP,firings,DA,rew,s_del,I,shist)\n",
    "    end\n",
    "end"
   ]
  },
  {
   "cell_type": "code",
   "execution_count": null,
   "metadata": {},
   "outputs": [],
   "source": [
    "# %% main loop\n",
    "\n",
    "net = NeuralNet()\n",
    "\n",
    "for sec in 0:T-1\n",
    "    @time for msec in 1:1000\n",
    "        net.I = 13*(rand(N).-0.5)\n",
    "        time = 1000*sec+msec\n",
    "        fired = findall(x->x>=thresh,net.v)\n",
    "        net.v,net.u = izhikevicmodel_fire(net.v,net.u,fired)\n",
    "        net.STDP = STDP_fire(net.STDP,fired,msec)\n",
    "        net.sd = LTP(net.STDP,net.sd,fired,msec)\n",
    "        net.firings = vcat(net.firings,hcat(msec.*ones(length(fired)),fired))\n",
    "        net.I,net.sd = LTD(net.STDP,net.sd,net.s,net.firings,net.I,msec)\n",
    "        if net.s_del[1] == net.s_del[2]\n",
    "            s_index = rand(1:100)\n",
    "            net.I = stimuli_fire(s_index,net.I)\n",
    "            net.s_del = [0,rand(100:300)]\n",
    "            net.rew = reward(net.rew,s_index,time)\n",
    "        end\n",
    "        net.v,net.u = izhikevicmodel_step(net.v,net.u,net.I)\n",
    "        net.STDP,net.DA = DA_STDP_step(net.STDP,net.DA,msec)\n",
    "        net.s,net.sd = synweight_step(net.sd,net.s,net.DA,msec)\n",
    "        net.DA = DA_inc(net.rew,net.DA,time)\n",
    "        net.shist[time,:] .= means(net.s)\n",
    "        net.s_del[1] += 1\n",
    "    end\n",
    "    net.STDP,net.firings = time_reset(net.STDP,net.firings)\n",
    "    if sec%100==0\n",
    "        print(\"\\rsec = $sec\")\n",
    "    end\n",
    "end"
   ]
  },
  {
   "cell_type": "code",
   "execution_count": null,
   "metadata": {},
   "outputs": [],
   "source": [
    "# %% Plot means\n",
    "using Plots\n",
    "gr()\n",
    "x1 = 0.001.*collect(1:length(net.shist[:,1]))\n",
    "y1 = net.shist[:,1]\n",
    "x2 = x1\n",
    "y2 = net.shist[:,2]\n",
    "fig = plot()\n",
    "plot!(x1,y1,color=\"blue\",label=\"from S1\", legend = true)\n",
    "plot!(x2,y2,color=\"green\",label=\"mean\", legend = true)\n",
    "xlabel!(\"Time (sec)\")\n",
    "ylabel!(\"synaptic weigth (mV)\")"
   ]
  }
 ],
 "metadata": {
  "kernelspec": {
   "display_name": "Python 3",
   "language": "python",
   "name": "python3"
  },
  "language_info": {
   "codemirror_mode": {
    "name": "ipython",
    "version": 3
   },
   "file_extension": ".py",
   "mimetype": "text/x-python",
   "name": "python",
   "nbconvert_exporter": "python",
   "pygments_lexer": "ipython3",
   "version": "3.7.6"
  }
 },
 "nbformat": 4,
 "nbformat_minor": 4
}
