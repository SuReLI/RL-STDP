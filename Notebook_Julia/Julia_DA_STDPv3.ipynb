{
 "cells": [
  {
   "cell_type": "code",
   "execution_count": 1,
   "metadata": {},
   "outputs": [],
   "source": [
    "# %% Modules\n",
    "\n",
    "include(\"../Julia/Modules/DASTDP.jl\")\n",
    "include(\"../Julia/Modules/NeuronModel.jl\")\n",
    "\n",
    "using .DASTDP\n",
    "using .NeuronModel"
   ]
  },
  {
   "cell_type": "code",
   "execution_count": null,
   "metadata": {},
   "outputs": [],
   "source": [
    "# %% Constants\n",
    "\n",
    "const Ni = 200\n",
    "const T = 3600\n",
    "const thresh = 30;"
   ]
  },
  {
   "cell_type": "code",
   "execution_count": null,
   "metadata": {},
   "outputs": [],
   "source": [
    "# %% Network Structure\n",
    "\n",
    "mutable struct NeuralNet\n",
    "    v::Array{Float64}\n",
    "    u::Array{Float64}\n",
    "    s::Array{Float64,2}\n",
    "    sd::Array{Float64,2}\n",
    "    STDP::Array{Float64,2}\n",
    "    firings::Array{Int64,2}\n",
    "    DA::Float64\n",
    "    rew::Array{Int64}\n",
    "    n1f::Array{Int64}\n",
    "    n2f::Array{Int64}\n",
    "    I::Array{Float64}\n",
    "\n",
    "    function NeuralNet()\n",
    "        v = -65.0*ones(N)\n",
    "        u = 0.2*v\n",
    "        s = vcat(1.0 .* ones(Ne,M),-1.0 .* ones(Ni,M))\n",
    "        s[n1,syn] = 0.0\n",
    "        sd = 0.0 .* zeros(N,M)\n",
    "        STDP = 0.0 .* zeros(N,1001+D)\n",
    "        firings = [-D*1.0 0.0]\n",
    "        DA = 0.0\n",
    "        rew = []\n",
    "        n1f = [-100]\n",
    "        n2f = []\n",
    "        I = Float64[]\n",
    "        new(v,u,s,sd,STDP,firings,DA,rew,n1f,n2f,I)\n",
    "    end\n",
    "end"
   ]
  },
  {
   "cell_type": "code",
   "execution_count": null,
   "metadata": {},
   "outputs": [],
   "source": [
    "# %% Main loop\n",
    "\n",
    "net = NeuralNet()\n",
    "\n",
    "@inbounds for sec in 0:T-1\n",
    "    @time @inbounds for msec in 1:1000\n",
    "        net.I = 13*(rand(N).-0.5)\n",
    "        time = 1000*sec+msec\n",
    "        fired = findall(x->x>=thresh,net.v)\n",
    "        izhikevicmodel_fire!(net.v,net.u,fired)\n",
    "        STDP_fire!(net.STDP,fired,msec)\n",
    "        reward_fire!(net.n1f,net.n2f,net.rew,fired,time)\n",
    "        LTP!(net.STDP,net.sd,fired,msec)\n",
    "        net.firings = vcat(net.firings,hcat(msec.*ones(length(fired)),fired))\n",
    "        LTD!(net.STDP,net.sd,net.s,net.firings,net.I,time,msec)\n",
    "        izhikevicmodel_step!(net.v,net.u,net.I)\n",
    "        DA_STDP_step!(net.STDP,net.DA,msec)\n",
    "        DA_inc!(net.rew,net.DA,time)\n",
    "    end\n",
    "    time_reset!(net.STDP,net.firings)\n",
    "    if sec%100==0\n",
    "        print(\"\\rsec = $sec\")\n",
    "    end\n",
    "end"
   ]
  }
 ],
 "metadata": {
  "kernelspec": {
   "display_name": "Julia 1.4.0",
   "language": "julia",
   "name": "julia-1.4"
  },
  "language_info": {
   "file_extension": ".jl",
   "mimetype": "application/julia",
   "name": "julia",
   "version": "1.4.0"
  }
 },
 "nbformat": 4,
 "nbformat_minor": 4
}
